{
 "cells": [
  {
   "cell_type": "markdown",
   "metadata": {},
   "source": [
    "## Importing Relevant Libraries"
   ]
  },
  {
   "cell_type": "code",
   "execution_count": 1,
   "metadata": {},
   "outputs": [],
   "source": [
    "from PIL import Image\n",
    "import numpy as np\n",
    "import cv2\n",
    "import os\n",
    "import matplotlib.pyplot as plt\n",
    "import glob"
   ]
  },
  {
   "cell_type": "markdown",
   "metadata": {},
   "source": [
    "## Grascale Conversion Function"
   ]
  },
  {
   "cell_type": "code",
   "execution_count": 2,
   "metadata": {},
   "outputs": [],
   "source": [
    "def convert_to_single(source):\n",
    "    color_image = cv2.imread(source)\n",
    "    gray_image = cv2.cvtColor(color_image, cv2.COLOR_BGR2GRAY)\n",
    "    new_loc = source.replace('color', 'gray')\n",
    "    cv2.imwrite(new_loc, gray_image)"
   ]
  },
  {
   "cell_type": "markdown",
   "metadata": {},
   "source": [
    "## Iterate through all color images in 'train'"
   ]
  },
  {
   "cell_type": "code",
   "execution_count": 3,
   "metadata": {},
   "outputs": [],
   "source": [
    "color_folder = 'data/train/color/'\n",
    "#color_folder = 'data/test_pic/color/'\n",
    "files = [f for f in glob.glob(color_folder + \"**/*.JPEG\", recursive=True)]\n",
    "\n",
    "for file in files:\n",
    "    convert_to_single(file)"
   ]
  },
  {
   "cell_type": "code",
   "execution_count": 4,
   "metadata": {},
   "outputs": [],
   "source": [
    "color_folder = 'data/test/color/'\n",
    "files = [f for f in glob.glob(color_folder + \"**/*.JPEG\", recursive=True)]\n",
    "\n",
    "for file in files:\n",
    "    convert_to_single(file)"
   ]
  },
  {
   "cell_type": "code",
   "execution_count": 5,
   "metadata": {},
   "outputs": [],
   "source": [
    "color_folder = 'data/val/color/'\n",
    "files = [f for f in glob.glob(color_folder + \"**/*.JPEG\", recursive=True)]\n",
    "\n",
    "for file in files:\n",
    "    convert_to_single(file)"
   ]
  },
  {
   "cell_type": "markdown",
   "metadata": {},
   "source": [
    "### Reading Images (Correct since it reads 1 channel)"
   ]
  },
  {
   "cell_type": "code",
   "execution_count": null,
   "metadata": {},
   "outputs": [],
   "source": [
    "color_folder = 'data/test_pic/gray/'\n",
    "files = [f for f in glob.glob(color_folder + \"**/*.JPEG\", recursive=True)]\n",
    "\n",
    "for file in files:\n",
    "    image = cv2.imread(file, cv2.IMREAD_GRAYSCALE)\n",
    "    print(image.shape)"
   ]
  },
  {
   "cell_type": "markdown",
   "metadata": {},
   "source": [
    "### Reading Images (Incorrect since it read 3 channels)"
   ]
  },
  {
   "cell_type": "code",
   "execution_count": null,
   "metadata": {},
   "outputs": [],
   "source": [
    "color_folder = 'data/test_pic/gray/'\n",
    "files = [f for f in glob.glob(color_folder + \"**/*.JPEG\", recursive=True)]\n",
    "\n",
    "for file in files:\n",
    "    image = cv2.imread(file)\n",
    "    print(image.shape)"
   ]
  }
 ],
 "metadata": {
  "kernelspec": {
   "display_name": "Python 3",
   "language": "python",
   "name": "python3"
  },
  "language_info": {
   "codemirror_mode": {
    "name": "ipython",
    "version": 3
   },
   "file_extension": ".py",
   "mimetype": "text/x-python",
   "name": "python",
   "nbconvert_exporter": "python",
   "pygments_lexer": "ipython3",
   "version": "3.6.9"
  },
  "widgets": {
   "state": {},
   "version": "1.1.2"
  }
 },
 "nbformat": 4,
 "nbformat_minor": 2
}
