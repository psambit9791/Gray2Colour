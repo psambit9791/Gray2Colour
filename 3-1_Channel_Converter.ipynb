{
 "cells": [
  {
   "cell_type": "markdown",
   "metadata": {},
   "source": [
    "## Importing Relevant Libraries"
   ]
  },
  {
   "cell_type": "code",
   "execution_count": 1,
   "metadata": {},
   "outputs": [],
   "source": [
    "from PIL import Image\n",
    "import numpy as np\n",
    "import cv2 as cv\n",
    "import os\n",
    "import matplotlib.pyplot as plt"
   ]
  },
  {
   "cell_type": "markdown",
   "metadata": {},
   "source": [
    "## Grascale Conversion Function"
   ]
  },
  {
   "cell_type": "code",
   "execution_count": 10,
   "metadata": {},
   "outputs": [],
   "source": [
    "def convert_to_single(source, filename, dest):\n",
    "    col_im = cv.imread(source+filename)\n",
    "    gray_im = cv.cvtColor(col_im, cv.COLOR_RGB2GRAY)\n",
    "    #plt.imshow(gray_im, cmap='gray')\n",
    "    im = Image.fromarray(gray_im)\n",
    "    try:\n",
    "        im.save(dest+filename)\n",
    "    except IOError:\n",
    "        os.makedirs(dest)\n",
    "        im.save(dest+filename)"
   ]
  },
  {
   "cell_type": "markdown",
   "metadata": {},
   "source": [
    "## File iterator"
   ]
  },
  {
   "cell_type": "code",
   "execution_count": 11,
   "metadata": {},
   "outputs": [],
   "source": [
    "folder_source = 'test_pic/'\n",
    "folder_dest = 'test_pic_gray/'\n",
    "for filename in os.listdir(folder):\n",
    "    convert_to_single(folder_source, filename, folder_dest)"
   ]
  }
 ],
 "metadata": {
  "kernelspec": {
   "display_name": "Python 3",
   "language": "python",
   "name": "python3"
  },
  "language_info": {
   "codemirror_mode": {
    "name": "ipython",
    "version": 3
   },
   "file_extension": ".py",
   "mimetype": "text/x-python",
   "name": "python",
   "nbconvert_exporter": "python",
   "pygments_lexer": "ipython3",
   "version": "3.5.6"
  },
  "widgets": {
   "state": {},
   "version": "1.1.2"
  }
 },
 "nbformat": 4,
 "nbformat_minor": 2
}
