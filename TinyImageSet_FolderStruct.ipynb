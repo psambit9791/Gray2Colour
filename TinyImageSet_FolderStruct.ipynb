{
 "cells": [
  {
   "cell_type": "markdown",
   "metadata": {},
   "source": [
    "## Moving the image files to folders which are more accessible\n",
    "\n",
    "### The dataset has just been downloaded and extracted to the location 'data'\n",
    "### Hyperlink: http://cs231n.stanford.edu/tiny-imagenet-200.zip"
   ]
  },
  {
   "cell_type": "code",
   "execution_count": 1,
   "metadata": {},
   "outputs": [],
   "source": [
    "import os\n",
    "import shutil\n",
    "import glob"
   ]
  },
  {
   "cell_type": "code",
   "execution_count": 2,
   "metadata": {},
   "outputs": [],
   "source": [
    "train_dir = 'data/train'\n",
    "test_dir = 'data/test'\n",
    "val_dir = 'data/val'"
   ]
  },
  {
   "cell_type": "code",
   "execution_count": 3,
   "metadata": {},
   "outputs": [],
   "source": [
    "directory = train_dir\n",
    "all_dirs = [x[0] for x in os.walk(directory)]\n",
    "dest_list = []\n",
    "src_list = []\n",
    "for d in all_dirs:\n",
    "    if len(d.split('/')) == 3:\n",
    "        dest_list.append(d)\n",
    "    if len(d.split('/')) == 4:\n",
    "        src_list.append(d)"
   ]
  },
  {
   "cell_type": "code",
   "execution_count": 4,
   "metadata": {},
   "outputs": [
    {
     "name": "stdout",
     "output_type": "stream",
     "text": [
      "['data/train/n07583066/images', 'data/train/n03444034/images', 'data/train/n03902125/images', 'data/train/n02892201/images', 'data/train/n02099601/images', 'data/train/n02190166/images', 'data/train/n01698640/images', 'data/train/n03404251/images', 'data/train/n04074963/images', 'data/train/n07715103/images', 'data/train/n03126707/images', 'data/train/n03930313/images', 'data/train/n04540053/images', 'data/train/n07711569/images', 'data/train/n01768244/images', 'data/train/n02281406/images', 'data/train/n02808440/images', 'data/train/n01917289/images', 'data/train/n03599486/images', 'data/train/n01774750/images', 'data/train/n02437312/images', 'data/train/n02988304/images', 'data/train/n03584254/images', 'data/train/n09428293/images', 'data/train/n04146614/images', 'data/train/n02125311/images', 'data/train/n01770393/images', 'data/train/n02977058/images', 'data/train/n03085013/images', 'data/train/n04070727/images', 'data/train/n02814860/images', 'data/train/n02699494/images', 'data/train/n03100240/images', 'data/train/n04118538/images', 'data/train/n01855672/images', 'data/train/n04398044/images', 'data/train/n01443537/images', 'data/train/n02226429/images', 'data/train/n03089624/images', 'data/train/n01644900/images', 'data/train/n04465501/images', 'data/train/n02769748/images', 'data/train/n02730930/images', 'data/train/n07875152/images', 'data/train/n04265275/images', 'data/train/n02415577/images', 'data/train/n03355925/images', 'data/train/n04456115/images', 'data/train/n03160309/images', 'data/train/n03976657/images', 'data/train/n03804744/images', 'data/train/n03042490/images', 'data/train/n01945685/images', 'data/train/n04356056/images', 'data/train/n02268443/images', 'data/train/n02669723/images', 'data/train/n03026506/images', 'data/train/n03854065/images', 'data/train/n02883205/images', 'data/train/n02403003/images', 'data/train/n02094433/images', 'data/train/n04328186/images', 'data/train/n02132136/images', 'data/train/n02841315/images', 'data/train/n09332890/images', 'data/train/n03970156/images', 'data/train/n07871810/images', 'data/train/n06596364/images', 'data/train/n03637318/images', 'data/train/n01983481/images', 'data/train/n03662601/images', 'data/train/n03814639/images', 'data/train/n03014705/images', 'data/train/n03250847/images', 'data/train/n02927161/images', 'data/train/n07749582/images', 'data/train/n02113799/images', 'data/train/n04532670/images', 'data/train/n02165456/images', 'data/train/n04254777/images', 'data/train/n03617480/images', 'data/train/n02206856/images', 'data/train/n07615774/images', 'data/train/n07768694/images', 'data/train/n02795169/images', 'data/train/n02480495/images', 'data/train/n09193705/images', 'data/train/n02509815/images', 'data/train/n01950731/images', 'data/train/n02791270/images', 'data/train/n02666196/images', 'data/train/n04275548/images', 'data/train/n09246464/images', 'data/train/n03393912/images', 'data/train/n04179913/images', 'data/train/n02423022/images', 'data/train/n02123394/images', 'data/train/n02395406/images', 'data/train/n04597913/images', 'data/train/n03977966/images', 'data/train/n02917067/images', 'data/train/n02085620/images', 'data/train/n04311004/images', 'data/train/n02124075/images', 'data/train/n02837789/images', 'data/train/n03424325/images', 'data/train/n02231487/images', 'data/train/n04399382/images', 'data/train/n01774384/images', 'data/train/n07734744/images', 'data/train/n02802426/images', 'data/train/n04023962/images', 'data/train/n07720875/images', 'data/train/n02504458/images', 'data/train/n01742172/images', 'data/train/n03992509/images', 'data/train/n03544143/images', 'data/train/n04507155/images', 'data/train/n03400231/images', 'data/train/n04376876/images', 'data/train/n04133789/images', 'data/train/n02364673/images', 'data/train/n03201208/images', 'data/train/n04560804/images', 'data/train/n07695742/images', 'data/train/n02056570/images', 'data/train/n02321529/images', 'data/train/n04562935/images', 'data/train/n07873807/images', 'data/train/n03937543/images', 'data/train/n04008634/images', 'data/train/n02814533/images', 'data/train/n01882714/images', 'data/train/n02279972/images', 'data/train/n02236044/images', 'data/train/n02948072/images', 'data/train/n03983396/images', 'data/train/n02099712/images', 'data/train/n02909870/images', 'data/train/n04067472/images', 'data/train/n02106662/images', 'data/train/n02815834/images', 'data/train/n03837869/images', 'data/train/n07753592/images', 'data/train/n04371430/images', 'data/train/n02486410/images', 'data/train/n02999410/images', 'data/train/n03763968/images', 'data/train/n02963159/images', 'data/train/n01910747/images', 'data/train/n03796401/images', 'data/train/n07920052/images', 'data/train/n01629819/images', 'data/train/n04487081/images', 'data/train/n03179701/images', 'data/train/n07614500/images', 'data/train/n04285008/images', 'data/train/n04149813/images', 'data/train/n03891332/images', 'data/train/n07579787/images', 'data/train/n04099969/images', 'data/train/n03706229/images', 'data/train/n02950826/images', 'data/train/n04366367/images', 'data/train/n04259630/images', 'data/train/n03447447/images', 'data/train/n03255030/images', 'data/train/n04251144/images', 'data/train/n04417672/images', 'data/train/n03670208/images', 'data/train/n02074367/images', 'data/train/n02793495/images', 'data/train/n03980874/images', 'data/train/n02002724/images', 'data/train/n03838899/images', 'data/train/n01641577/images', 'data/train/n02481823/images', 'data/train/n04532106/images', 'data/train/n02129165/images', 'data/train/n02058221/images', 'data/train/n02906734/images', 'data/train/n04486054/images', 'data/train/n12267677/images', 'data/train/n02823428/images', 'data/train/n02843684/images', 'data/train/n01984695/images', 'data/train/n01944390/images', 'data/train/n02410509/images', 'data/train/n01784675/images', 'data/train/n03649909/images', 'data/train/n04596742/images', 'data/train/n03388043/images', 'data/train/n09256479/images', 'data/train/n02233338/images', 'data/train/n03733131/images', 'data/train/n03770439/images', 'data/train/n02788148/images', 'data/train/n07747607/images', 'data/train/n02123045/images', 'data/train/n04501370/images'] ['data/train/n07583066', 'data/train/n03444034', 'data/train/n03902125', 'data/train/n02892201', 'data/train/n02099601', 'data/train/n02190166', 'data/train/n01698640', 'data/train/n03404251', 'data/train/n04074963', 'data/train/n07715103', 'data/train/n03126707', 'data/train/n03930313', 'data/train/n04540053', 'data/train/n07711569', 'data/train/n01768244', 'data/train/n02281406', 'data/train/n02808440', 'data/train/n01917289', 'data/train/n03599486', 'data/train/n01774750', 'data/train/n02437312', 'data/train/n02988304', 'data/train/n03584254', 'data/train/n09428293', 'data/train/n04146614', 'data/train/n02125311', 'data/train/n01770393', 'data/train/n02977058', 'data/train/n03085013', 'data/train/n04070727', 'data/train/n02814860', 'data/train/n02699494', 'data/train/n03100240', 'data/train/n04118538', 'data/train/n01855672', 'data/train/n04398044', 'data/train/n01443537', 'data/train/n02226429', 'data/train/n03089624', 'data/train/n01644900', 'data/train/n04465501', 'data/train/n02769748', 'data/train/n02730930', 'data/train/n07875152', 'data/train/n04265275', 'data/train/n02415577', 'data/train/n03355925', 'data/train/n04456115', 'data/train/n03160309', 'data/train/n03976657', 'data/train/n03804744', 'data/train/n03042490', 'data/train/n01945685', 'data/train/n04356056', 'data/train/n02268443', 'data/train/n02669723', 'data/train/n03026506', 'data/train/n03854065', 'data/train/n02883205', 'data/train/n02403003', 'data/train/n02094433', 'data/train/n04328186', 'data/train/n02132136', 'data/train/n02841315', 'data/train/n09332890', 'data/train/n03970156', 'data/train/n07871810', 'data/train/n06596364', 'data/train/n03637318', 'data/train/n01983481', 'data/train/n03662601', 'data/train/n03814639', 'data/train/n03014705', 'data/train/n03250847', 'data/train/n02927161', 'data/train/n07749582', 'data/train/n02113799', 'data/train/n04532670', 'data/train/n02165456', 'data/train/n04254777', 'data/train/n03617480', 'data/train/n02206856', 'data/train/n07615774', 'data/train/n07768694', 'data/train/n02795169', 'data/train/n02480495', 'data/train/n09193705', 'data/train/n02509815', 'data/train/n01950731', 'data/train/n02791270', 'data/train/n02666196', 'data/train/n04275548', 'data/train/n09246464', 'data/train/n03393912', 'data/train/n04179913', 'data/train/n02423022', 'data/train/n02123394', 'data/train/n02395406', 'data/train/n04597913', 'data/train/n03977966', 'data/train/n02917067', 'data/train/n02085620', 'data/train/n04311004', 'data/train/n02124075', 'data/train/n02837789', 'data/train/n03424325', 'data/train/n02231487', 'data/train/n04399382', 'data/train/n01774384', 'data/train/n07734744', 'data/train/n02802426', 'data/train/n04023962', 'data/train/n07720875', 'data/train/n02504458', 'data/train/n01742172', 'data/train/n03992509', 'data/train/n03544143', 'data/train/n04507155', 'data/train/n03400231', 'data/train/n04376876', 'data/train/n04133789', 'data/train/n02364673', 'data/train/n03201208', 'data/train/n04560804', 'data/train/n07695742', 'data/train/n02056570', 'data/train/n02321529', 'data/train/n04562935', 'data/train/n07873807', 'data/train/n03937543', 'data/train/n04008634', 'data/train/n02814533', 'data/train/n01882714', 'data/train/n02279972', 'data/train/n02236044', 'data/train/n02948072', 'data/train/n03983396', 'data/train/n02099712', 'data/train/n02909870', 'data/train/n04067472', 'data/train/n02106662', 'data/train/n02815834', 'data/train/n03837869', 'data/train/n07753592', 'data/train/n04371430', 'data/train/n02486410', 'data/train/n02999410', 'data/train/n03763968', 'data/train/n02963159', 'data/train/n01910747', 'data/train/n03796401', 'data/train/n07920052', 'data/train/n01629819', 'data/train/n04487081', 'data/train/n03179701', 'data/train/n07614500', 'data/train/n04285008', 'data/train/n04149813', 'data/train/n03891332', 'data/train/n07579787', 'data/train/n04099969', 'data/train/n03706229', 'data/train/n02950826', 'data/train/n04366367', 'data/train/n04259630', 'data/train/n03447447', 'data/train/n03255030', 'data/train/n04251144', 'data/train/n04417672', 'data/train/n03670208', 'data/train/n02074367', 'data/train/n02793495', 'data/train/n03980874', 'data/train/n02002724', 'data/train/n03838899', 'data/train/n01641577', 'data/train/n02481823', 'data/train/n04532106', 'data/train/n02129165', 'data/train/n02058221', 'data/train/n02906734', 'data/train/n04486054', 'data/train/n12267677', 'data/train/n02823428', 'data/train/n02843684', 'data/train/n01984695', 'data/train/n01944390', 'data/train/n02410509', 'data/train/n01784675', 'data/train/n03649909', 'data/train/n04596742', 'data/train/n03388043', 'data/train/n09256479', 'data/train/n02233338', 'data/train/n03733131', 'data/train/n03770439', 'data/train/n02788148', 'data/train/n07747607', 'data/train/n02123045', 'data/train/n04501370']\n"
     ]
    }
   ],
   "source": [
    "print(src_list, dest_list)"
   ]
  },
  {
   "cell_type": "code",
   "execution_count": 5,
   "metadata": {},
   "outputs": [],
   "source": [
    "def remove_txt(destinations):\n",
    "    for d in destinations:\n",
    "        file_list = glob.glob(d+'/*.txt')\n",
    "        for f in file_list:\n",
    "            os.remove(f)"
   ]
  },
  {
   "cell_type": "code",
   "execution_count": 6,
   "metadata": {},
   "outputs": [],
   "source": [
    "def move_images(sources, destinations):\n",
    "    for index, d in enumerate(sources):\n",
    "        file_list = glob.glob(d+'/*')\n",
    "        for f in file_list:\n",
    "            shutil.move(f, destinations[index])\n",
    "        os.rmdir(d)"
   ]
  },
  {
   "cell_type": "code",
   "execution_count": 7,
   "metadata": {},
   "outputs": [],
   "source": [
    "remove_txt(dest_list)\n",
    "move_images(src_list, dest_list)"
   ]
  },
  {
   "cell_type": "markdown",
   "metadata": {},
   "source": [
    "### Moving image folders in train to a new folder called 'color'"
   ]
  },
  {
   "cell_type": "code",
   "execution_count": 8,
   "metadata": {},
   "outputs": [],
   "source": [
    "os.mkdir(train_dir+'/color')\n",
    "new_dir = train_dir+'/color'\n",
    "\n",
    "for d in dest_list:\n",
    "    shutil.move(d, new_dir)\n",
    "\n",
    "os.mkdir(train_dir+'/gray')"
   ]
  },
  {
   "cell_type": "markdown",
   "metadata": {},
   "source": [
    "### Renaming image folders to 'color' in 'test' and 'val'"
   ]
  },
  {
   "cell_type": "code",
   "execution_count": 9,
   "metadata": {},
   "outputs": [],
   "source": [
    "shutil.move(test_dir+'/images', test_dir+'/color')\n",
    "shutil.move(val_dir+'/images', val_dir+'/color')\n",
    "\n",
    "os.mkdir(test_dir+'/gray')\n",
    "os.mkdir(val_dir+'/gray')"
   ]
  },
  {
   "cell_type": "markdown",
   "metadata": {},
   "source": [
    "### Creating same folder structure as 'color' in 'gray'"
   ]
  },
  {
   "cell_type": "code",
   "execution_count": 10,
   "metadata": {},
   "outputs": [],
   "source": [
    "directory = train_dir\n",
    "all_dirs = [x[0] for x in os.walk(directory)]\n",
    "dest_list = []\n",
    "src_list = []\n",
    "for d in all_dirs:\n",
    "    if len(d.split('/')) == 3:\n",
    "        dest_list.append(d)\n",
    "    if len(d.split('/')) == 4:\n",
    "        src_list.append(d)"
   ]
  },
  {
   "cell_type": "code",
   "execution_count": 11,
   "metadata": {},
   "outputs": [
    {
     "name": "stdout",
     "output_type": "stream",
     "text": [
      "['data/train/color/n07583066', 'data/train/color/n03444034', 'data/train/color/n03902125', 'data/train/color/n02892201', 'data/train/color/n02099601', 'data/train/color/n02190166', 'data/train/color/n01698640', 'data/train/color/n03404251', 'data/train/color/n04074963', 'data/train/color/n07715103', 'data/train/color/n03126707', 'data/train/color/n03930313', 'data/train/color/n04540053', 'data/train/color/n07711569', 'data/train/color/n01768244', 'data/train/color/n02281406', 'data/train/color/n02808440', 'data/train/color/n01917289', 'data/train/color/n03599486', 'data/train/color/n01774750', 'data/train/color/n02437312', 'data/train/color/n02988304', 'data/train/color/n03584254', 'data/train/color/n09428293', 'data/train/color/n04146614', 'data/train/color/n02125311', 'data/train/color/n01770393', 'data/train/color/n02977058', 'data/train/color/n03085013', 'data/train/color/n04070727', 'data/train/color/n02814860', 'data/train/color/n02699494', 'data/train/color/n03100240', 'data/train/color/n04118538', 'data/train/color/n01855672', 'data/train/color/n04398044', 'data/train/color/n01443537', 'data/train/color/n02226429', 'data/train/color/n03089624', 'data/train/color/n01644900', 'data/train/color/n04465501', 'data/train/color/n02769748', 'data/train/color/n02730930', 'data/train/color/n07875152', 'data/train/color/n04265275', 'data/train/color/n02415577', 'data/train/color/n03355925', 'data/train/color/n04456115', 'data/train/color/n03160309', 'data/train/color/n03976657', 'data/train/color/n03804744', 'data/train/color/n03042490', 'data/train/color/n01945685', 'data/train/color/n04356056', 'data/train/color/n02268443', 'data/train/color/n02669723', 'data/train/color/n03026506', 'data/train/color/n03854065', 'data/train/color/n02883205', 'data/train/color/n02403003', 'data/train/color/n02094433', 'data/train/color/n04328186', 'data/train/color/n02132136', 'data/train/color/n02841315', 'data/train/color/n09332890', 'data/train/color/n03970156', 'data/train/color/n07871810', 'data/train/color/n06596364', 'data/train/color/n03637318', 'data/train/color/n01983481', 'data/train/color/n03662601', 'data/train/color/n03814639', 'data/train/color/n03014705', 'data/train/color/n03250847', 'data/train/color/n02927161', 'data/train/color/n07749582', 'data/train/color/n02113799', 'data/train/color/n04532670', 'data/train/color/n02165456', 'data/train/color/n04254777', 'data/train/color/n03617480', 'data/train/color/n02206856', 'data/train/color/n07615774', 'data/train/color/n07768694', 'data/train/color/n02795169', 'data/train/color/n02480495', 'data/train/color/n09193705', 'data/train/color/n02509815', 'data/train/color/n01950731', 'data/train/color/n02791270', 'data/train/color/n02666196', 'data/train/color/n04275548', 'data/train/color/n09246464', 'data/train/color/n03393912', 'data/train/color/n04179913', 'data/train/color/n02423022', 'data/train/color/n02123394', 'data/train/color/n02395406', 'data/train/color/n04597913', 'data/train/color/n03977966', 'data/train/color/n02917067', 'data/train/color/n02085620', 'data/train/color/n04311004', 'data/train/color/n02124075', 'data/train/color/n02837789', 'data/train/color/n03424325', 'data/train/color/n02231487', 'data/train/color/n04399382', 'data/train/color/n01774384', 'data/train/color/n07734744', 'data/train/color/n02802426', 'data/train/color/n04023962', 'data/train/color/n07720875', 'data/train/color/n02504458', 'data/train/color/n01742172', 'data/train/color/n03992509', 'data/train/color/n03544143', 'data/train/color/n04507155', 'data/train/color/n03400231', 'data/train/color/n04376876', 'data/train/color/n04133789', 'data/train/color/n02364673', 'data/train/color/n03201208', 'data/train/color/n04560804', 'data/train/color/n07695742', 'data/train/color/n02056570', 'data/train/color/n02321529', 'data/train/color/n04562935', 'data/train/color/n07873807', 'data/train/color/n03937543', 'data/train/color/n04008634', 'data/train/color/n02814533', 'data/train/color/n01882714', 'data/train/color/n02279972', 'data/train/color/n02236044', 'data/train/color/n02948072', 'data/train/color/n03983396', 'data/train/color/n02099712', 'data/train/color/n02909870', 'data/train/color/n04067472', 'data/train/color/n02106662', 'data/train/color/n02815834', 'data/train/color/n03837869', 'data/train/color/n07753592', 'data/train/color/n04371430', 'data/train/color/n02486410', 'data/train/color/n02999410', 'data/train/color/n03763968', 'data/train/color/n02963159', 'data/train/color/n01910747', 'data/train/color/n03796401', 'data/train/color/n07920052', 'data/train/color/n01629819', 'data/train/color/n04487081', 'data/train/color/n03179701', 'data/train/color/n07614500', 'data/train/color/n04285008', 'data/train/color/n04149813', 'data/train/color/n03891332', 'data/train/color/n07579787', 'data/train/color/n04099969', 'data/train/color/n03706229', 'data/train/color/n02950826', 'data/train/color/n04366367', 'data/train/color/n04259630', 'data/train/color/n03447447', 'data/train/color/n03255030', 'data/train/color/n04251144', 'data/train/color/n04417672', 'data/train/color/n03670208', 'data/train/color/n02074367', 'data/train/color/n02793495', 'data/train/color/n03980874', 'data/train/color/n02002724', 'data/train/color/n03838899', 'data/train/color/n01641577', 'data/train/color/n02481823', 'data/train/color/n04532106', 'data/train/color/n02129165', 'data/train/color/n02058221', 'data/train/color/n02906734', 'data/train/color/n04486054', 'data/train/color/n12267677', 'data/train/color/n02823428', 'data/train/color/n02843684', 'data/train/color/n01984695', 'data/train/color/n01944390', 'data/train/color/n02410509', 'data/train/color/n01784675', 'data/train/color/n03649909', 'data/train/color/n04596742', 'data/train/color/n03388043', 'data/train/color/n09256479', 'data/train/color/n02233338', 'data/train/color/n03733131', 'data/train/color/n03770439', 'data/train/color/n02788148', 'data/train/color/n07747607', 'data/train/color/n02123045', 'data/train/color/n04501370'] ['data/train/gray', 'data/train/color']\n"
     ]
    }
   ],
   "source": [
    "print(src_list, dest_list)"
   ]
  },
  {
   "cell_type": "code",
   "execution_count": 12,
   "metadata": {},
   "outputs": [],
   "source": [
    "for d in src_list:\n",
    "    new_d = d.replace('color', 'gray')\n",
    "    os.mkdir(new_d)"
   ]
  }
 ],
 "metadata": {
  "kernelspec": {
   "display_name": "Python 3",
   "language": "python",
   "name": "python3"
  },
  "language_info": {
   "codemirror_mode": {
    "name": "ipython",
    "version": 3
   },
   "file_extension": ".py",
   "mimetype": "text/x-python",
   "name": "python",
   "nbconvert_exporter": "python",
   "pygments_lexer": "ipython3",
   "version": "3.6.9"
  }
 },
 "nbformat": 4,
 "nbformat_minor": 2
}
